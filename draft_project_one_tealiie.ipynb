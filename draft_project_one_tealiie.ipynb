{
 "cells": [
  {
   "cell_type": "code",
   "execution_count": 1,
   "metadata": {},
   "outputs": [],
   "source": [
    "# Dependencies and Setup\n",
    "import pandas as pd\n",
    "import numpy as np\n",
    "import json as json\n",
    "import matplotlib.pyplot as plt\n",
    "import matplotlib.ticker as mticker\n",
    "\n",
    "# File to Load (Remember to Change These)\n",
    "crime_2018 = \"Resources/2018-19-data_sa_crime.csv\"\n",
    "crime_2019 = \"Resources/2019-20-fullyr-data_sa_crime (1).csv\"\n",
    "crime_2020 = \"Resources/2020-21_crime_qtr1_and_qtr2 (1).csv\"\n",
    "sa_postcodes = \"Resources/australian_postcodes (1).csv\"\n",
    "\n",
    "# Read data files and store into DataFrames\n",
    "crime_2018_df = pd.read_csv(crime_2018, parse_dates = ['Reported Date'])\n",
    "crime_2019_df = pd.read_csv(crime_2019, parse_dates = ['Reported Date'])\n",
    "crime_2020_df = pd.read_csv(crime_2020, parse_dates = ['Reported Date'])\n",
    "sa_postcodes_df = pd.read_csv(sa_postcodes)"
   ]
  },
  {
   "cell_type": "code",
   "execution_count": 2,
   "metadata": {},
   "outputs": [],
   "source": [
    "#merging 4 crime datasets into a merged_data dataframe\n",
    "merged_data = pd.concat([crime_2018_df,crime_2019_df,crime_2020_df], ignore_index=True)"
   ]
  },
  {
   "cell_type": "code",
   "execution_count": 3,
   "metadata": {},
   "outputs": [],
   "source": [
    "#cleaning merged_data dataframe and removing rows containing null values\n",
    "clean_crime_data = merged_data.dropna(how='any')"
   ]
  },
  {
   "cell_type": "code",
   "execution_count": 4,
   "metadata": {},
   "outputs": [],
   "source": [
    "#renaming SA postcode set to allow merge on shared column\n",
    "sa_postcodes_df = sa_postcodes_df.rename(columns = {\"postcode\":\"Postcode - Incident\",\n",
    "                                                   'locality': \"Suburb - Incident\"})"
   ]
  },
  {
   "cell_type": "code",
   "execution_count": 5,
   "metadata": {},
   "outputs": [],
   "source": [
    "#using loc function to remove any crimes listed against postcode \"NOT DISCLOSED\"\n",
    "clean_crime_data = clean_crime_data.loc[clean_crime_data[\"Postcode - Incident\"]!= \"NOT DISCLOSED\"].copy()"
   ]
  },
  {
   "cell_type": "code",
   "execution_count": 6,
   "metadata": {},
   "outputs": [],
   "source": [
    "#changing datatype from object to integer to allow merge of two datasets\n",
    "clean_crime_data[\"Postcode - Incident\"] = clean_crime_data[\"Postcode - Incident\"].astype(str).astype(int)"
   ]
  },
  {
   "cell_type": "code",
   "execution_count": 7,
   "metadata": {},
   "outputs": [],
   "source": [
    "#Check datatypes of clean_crime_data\n",
    "#clean_crime_data.dtypes"
   ]
  },
  {
   "cell_type": "code",
   "execution_count": 8,
   "metadata": {},
   "outputs": [],
   "source": [
    "#Check datatypes of sa_postcodes_df\n",
    "#sa_postcodes_df.dtypes"
   ]
  },
  {
   "cell_type": "code",
   "execution_count": 9,
   "metadata": {},
   "outputs": [],
   "source": [
    "#merge both datasets - using left join to drop any postcode data not associated with crimes in SA\n",
    "crime_postcode_merge_df = pd.merge(clean_crime_data, sa_postcodes_df, on = [\"Postcode - Incident\", \"Suburb - Incident\"], how = \"left\")"
   ]
  },
  {
   "cell_type": "code",
   "execution_count": 10,
   "metadata": {},
   "outputs": [
    {
     "data": {
      "text/html": [
       "<div>\n",
       "<style scoped>\n",
       "    .dataframe tbody tr th:only-of-type {\n",
       "        vertical-align: middle;\n",
       "    }\n",
       "\n",
       "    .dataframe tbody tr th {\n",
       "        vertical-align: top;\n",
       "    }\n",
       "\n",
       "    .dataframe thead th {\n",
       "        text-align: right;\n",
       "    }\n",
       "</style>\n",
       "<table border=\"1\" class=\"dataframe\">\n",
       "  <thead>\n",
       "    <tr style=\"text-align: right;\">\n",
       "      <th></th>\n",
       "      <th>Reported Date</th>\n",
       "      <th>Suburb - Incident</th>\n",
       "      <th>Postcode - Incident</th>\n",
       "      <th>Offence Level 1 Description</th>\n",
       "      <th>Offence Level 2 Description</th>\n",
       "      <th>Offence Level 3 Description</th>\n",
       "      <th>Offence count</th>\n",
       "      <th>id</th>\n",
       "      <th>state</th>\n",
       "      <th>long</th>\n",
       "      <th>...</th>\n",
       "      <th>SA2_MAINCODE_2016</th>\n",
       "      <th>SA2_NAME_2016</th>\n",
       "      <th>SA3_CODE_2016</th>\n",
       "      <th>SA3_NAME_2016</th>\n",
       "      <th>SA4_CODE_2016</th>\n",
       "      <th>SA4_NAME_2016</th>\n",
       "      <th>RA_2011</th>\n",
       "      <th>RA_2016</th>\n",
       "      <th>MMM_2015</th>\n",
       "      <th>MMM_2019</th>\n",
       "    </tr>\n",
       "  </thead>\n",
       "  <tbody>\n",
       "    <tr>\n",
       "      <th>0</th>\n",
       "      <td>2018-01-07</td>\n",
       "      <td>ABERFOYLE PARK</td>\n",
       "      <td>5159</td>\n",
       "      <td>OFFENCES AGAINST PROPERTY</td>\n",
       "      <td>THEFT AND RELATED OFFENCES</td>\n",
       "      <td>Theft from motor vehicle</td>\n",
       "      <td>1.0</td>\n",
       "      <td>15577.0</td>\n",
       "      <td>SA</td>\n",
       "      <td>138.603897</td>\n",
       "      <td>...</td>\n",
       "      <td>403041071.0</td>\n",
       "      <td>Aberfoyle Park</td>\n",
       "      <td>40304.0</td>\n",
       "      <td>Onkaparinga</td>\n",
       "      <td>403.0</td>\n",
       "      <td>Adelaide - South</td>\n",
       "      <td>1.0</td>\n",
       "      <td>1.0</td>\n",
       "      <td>1.0</td>\n",
       "      <td>1.0</td>\n",
       "    </tr>\n",
       "    <tr>\n",
       "      <th>1</th>\n",
       "      <td>2018-01-07</td>\n",
       "      <td>ADELAIDE</td>\n",
       "      <td>5000</td>\n",
       "      <td>OFFENCES AGAINST PROPERTY</td>\n",
       "      <td>PROPERTY DAMAGE AND ENVIRONMENTAL</td>\n",
       "      <td>Other property damage and environmental</td>\n",
       "      <td>1.0</td>\n",
       "      <td>13683.0</td>\n",
       "      <td>SA</td>\n",
       "      <td>138.608637</td>\n",
       "      <td>...</td>\n",
       "      <td>401011001.0</td>\n",
       "      <td>Adelaide</td>\n",
       "      <td>40101.0</td>\n",
       "      <td>Adelaide City</td>\n",
       "      <td>401.0</td>\n",
       "      <td>Adelaide - Central and Hills</td>\n",
       "      <td>1.0</td>\n",
       "      <td>1.0</td>\n",
       "      <td>1.0</td>\n",
       "      <td>1.0</td>\n",
       "    </tr>\n",
       "    <tr>\n",
       "      <th>2</th>\n",
       "      <td>2018-01-07</td>\n",
       "      <td>ADELAIDE</td>\n",
       "      <td>5000</td>\n",
       "      <td>OFFENCES AGAINST PROPERTY</td>\n",
       "      <td>THEFT AND RELATED OFFENCES</td>\n",
       "      <td>Other theft</td>\n",
       "      <td>5.0</td>\n",
       "      <td>13683.0</td>\n",
       "      <td>SA</td>\n",
       "      <td>138.608637</td>\n",
       "      <td>...</td>\n",
       "      <td>401011001.0</td>\n",
       "      <td>Adelaide</td>\n",
       "      <td>40101.0</td>\n",
       "      <td>Adelaide City</td>\n",
       "      <td>401.0</td>\n",
       "      <td>Adelaide - Central and Hills</td>\n",
       "      <td>1.0</td>\n",
       "      <td>1.0</td>\n",
       "      <td>1.0</td>\n",
       "      <td>1.0</td>\n",
       "    </tr>\n",
       "    <tr>\n",
       "      <th>3</th>\n",
       "      <td>2018-01-07</td>\n",
       "      <td>ADELAIDE</td>\n",
       "      <td>5000</td>\n",
       "      <td>OFFENCES AGAINST PROPERTY</td>\n",
       "      <td>THEFT AND RELATED OFFENCES</td>\n",
       "      <td>Receive or handle proceeds of crime</td>\n",
       "      <td>1.0</td>\n",
       "      <td>13683.0</td>\n",
       "      <td>SA</td>\n",
       "      <td>138.608637</td>\n",
       "      <td>...</td>\n",
       "      <td>401011001.0</td>\n",
       "      <td>Adelaide</td>\n",
       "      <td>40101.0</td>\n",
       "      <td>Adelaide City</td>\n",
       "      <td>401.0</td>\n",
       "      <td>Adelaide - Central and Hills</td>\n",
       "      <td>1.0</td>\n",
       "      <td>1.0</td>\n",
       "      <td>1.0</td>\n",
       "      <td>1.0</td>\n",
       "    </tr>\n",
       "    <tr>\n",
       "      <th>4</th>\n",
       "      <td>2018-01-07</td>\n",
       "      <td>ADELAIDE</td>\n",
       "      <td>5000</td>\n",
       "      <td>OFFENCES AGAINST PROPERTY</td>\n",
       "      <td>THEFT AND RELATED OFFENCES</td>\n",
       "      <td>Theft from motor vehicle</td>\n",
       "      <td>1.0</td>\n",
       "      <td>13683.0</td>\n",
       "      <td>SA</td>\n",
       "      <td>138.608637</td>\n",
       "      <td>...</td>\n",
       "      <td>401011001.0</td>\n",
       "      <td>Adelaide</td>\n",
       "      <td>40101.0</td>\n",
       "      <td>Adelaide City</td>\n",
       "      <td>401.0</td>\n",
       "      <td>Adelaide - Central and Hills</td>\n",
       "      <td>1.0</td>\n",
       "      <td>1.0</td>\n",
       "      <td>1.0</td>\n",
       "      <td>1.0</td>\n",
       "    </tr>\n",
       "  </tbody>\n",
       "</table>\n",
       "<p>5 rows × 33 columns</p>\n",
       "</div>"
      ],
      "text/plain": [
       "  Reported Date Suburb - Incident  Postcode - Incident  \\\n",
       "0    2018-01-07    ABERFOYLE PARK                 5159   \n",
       "1    2018-01-07          ADELAIDE                 5000   \n",
       "2    2018-01-07          ADELAIDE                 5000   \n",
       "3    2018-01-07          ADELAIDE                 5000   \n",
       "4    2018-01-07          ADELAIDE                 5000   \n",
       "\n",
       "  Offence Level 1 Description        Offence Level 2 Description  \\\n",
       "0   OFFENCES AGAINST PROPERTY         THEFT AND RELATED OFFENCES   \n",
       "1   OFFENCES AGAINST PROPERTY  PROPERTY DAMAGE AND ENVIRONMENTAL   \n",
       "2   OFFENCES AGAINST PROPERTY         THEFT AND RELATED OFFENCES   \n",
       "3   OFFENCES AGAINST PROPERTY         THEFT AND RELATED OFFENCES   \n",
       "4   OFFENCES AGAINST PROPERTY         THEFT AND RELATED OFFENCES   \n",
       "\n",
       "               Offence Level 3 Description  Offence count       id state  \\\n",
       "0                 Theft from motor vehicle            1.0  15577.0    SA   \n",
       "1  Other property damage and environmental            1.0  13683.0    SA   \n",
       "2                              Other theft            5.0  13683.0    SA   \n",
       "3      Receive or handle proceeds of crime            1.0  13683.0    SA   \n",
       "4                 Theft from motor vehicle            1.0  13683.0    SA   \n",
       "\n",
       "         long  ...  SA2_MAINCODE_2016   SA2_NAME_2016 SA3_CODE_2016  \\\n",
       "0  138.603897  ...        403041071.0  Aberfoyle Park       40304.0   \n",
       "1  138.608637  ...        401011001.0        Adelaide       40101.0   \n",
       "2  138.608637  ...        401011001.0        Adelaide       40101.0   \n",
       "3  138.608637  ...        401011001.0        Adelaide       40101.0   \n",
       "4  138.608637  ...        401011001.0        Adelaide       40101.0   \n",
       "\n",
       "   SA3_NAME_2016  SA4_CODE_2016                 SA4_NAME_2016  RA_2011  \\\n",
       "0    Onkaparinga          403.0              Adelaide - South      1.0   \n",
       "1  Adelaide City          401.0  Adelaide - Central and Hills      1.0   \n",
       "2  Adelaide City          401.0  Adelaide - Central and Hills      1.0   \n",
       "3  Adelaide City          401.0  Adelaide - Central and Hills      1.0   \n",
       "4  Adelaide City          401.0  Adelaide - Central and Hills      1.0   \n",
       "\n",
       "  RA_2016 MMM_2015  MMM_2019  \n",
       "0     1.0      1.0       1.0  \n",
       "1     1.0      1.0       1.0  \n",
       "2     1.0      1.0       1.0  \n",
       "3     1.0      1.0       1.0  \n",
       "4     1.0      1.0       1.0  \n",
       "\n",
       "[5 rows x 33 columns]"
      ]
     },
     "execution_count": 10,
     "metadata": {},
     "output_type": "execute_result"
    }
   ],
   "source": [
    "#review updated dataframe\n",
    "crime_postcode_merge_df.head()"
   ]
  },
  {
   "cell_type": "code",
   "execution_count": 11,
   "metadata": {},
   "outputs": [],
   "source": [
    "crime_postcode_merge_df = crime_postcode_merge_df.drop(columns=['SA2_MAINCODE_2016', 'type', 'sa3', 'SA3_CODE_2016', \n",
    "                                      'SA1_MAINCODE_2011', 'id', 'SA1_MAINCODE_2016',\n",
    "                                      'SA4_CODE_2016','RA_2011','RA_2016','MMM_2015','MMM_2019',\n",
    "                                      'status','sa4','state'])"
   ]
  },
  {
   "cell_type": "code",
   "execution_count": 12,
   "metadata": {
    "scrolled": true
   },
   "outputs": [
    {
     "data": {
      "text/html": [
       "<div>\n",
       "<style scoped>\n",
       "    .dataframe tbody tr th:only-of-type {\n",
       "        vertical-align: middle;\n",
       "    }\n",
       "\n",
       "    .dataframe tbody tr th {\n",
       "        vertical-align: top;\n",
       "    }\n",
       "\n",
       "    .dataframe thead th {\n",
       "        text-align: right;\n",
       "    }\n",
       "</style>\n",
       "<table border=\"1\" class=\"dataframe\">\n",
       "  <thead>\n",
       "    <tr style=\"text-align: right;\">\n",
       "      <th></th>\n",
       "      <th>Reported Date</th>\n",
       "      <th>Suburb - Incident</th>\n",
       "      <th>Postcode - Incident</th>\n",
       "      <th>Offence Level 1 Description</th>\n",
       "      <th>Offence count</th>\n",
       "      <th>long</th>\n",
       "      <th>lat</th>\n",
       "      <th>dc</th>\n",
       "      <th>sa3name</th>\n",
       "    </tr>\n",
       "  </thead>\n",
       "  <tbody>\n",
       "    <tr>\n",
       "      <th>0</th>\n",
       "      <td>2018-01-07</td>\n",
       "      <td>ABERFOYLE PARK</td>\n",
       "      <td>5159</td>\n",
       "      <td>OFFENCES AGAINST PROPERTY</td>\n",
       "      <td>1.0</td>\n",
       "      <td>138.603897</td>\n",
       "      <td>-35.061705</td>\n",
       "      <td>SOMERTON PARK DC</td>\n",
       "      <td>Onkaparinga</td>\n",
       "    </tr>\n",
       "    <tr>\n",
       "      <th>1</th>\n",
       "      <td>2018-01-07</td>\n",
       "      <td>ADELAIDE</td>\n",
       "      <td>5000</td>\n",
       "      <td>OFFENCES AGAINST PROPERTY</td>\n",
       "      <td>1.0</td>\n",
       "      <td>138.608637</td>\n",
       "      <td>-34.937459</td>\n",
       "      <td>ADELAIDE CITY DELVRY C &amp; BOXES</td>\n",
       "      <td>Adelaide City</td>\n",
       "    </tr>\n",
       "    <tr>\n",
       "      <th>2</th>\n",
       "      <td>2018-01-07</td>\n",
       "      <td>ADELAIDE</td>\n",
       "      <td>5000</td>\n",
       "      <td>OFFENCES AGAINST PROPERTY</td>\n",
       "      <td>5.0</td>\n",
       "      <td>138.608637</td>\n",
       "      <td>-34.937459</td>\n",
       "      <td>ADELAIDE CITY DELVRY C &amp; BOXES</td>\n",
       "      <td>Adelaide City</td>\n",
       "    </tr>\n",
       "    <tr>\n",
       "      <th>3</th>\n",
       "      <td>2018-01-07</td>\n",
       "      <td>ADELAIDE</td>\n",
       "      <td>5000</td>\n",
       "      <td>OFFENCES AGAINST PROPERTY</td>\n",
       "      <td>1.0</td>\n",
       "      <td>138.608637</td>\n",
       "      <td>-34.937459</td>\n",
       "      <td>ADELAIDE CITY DELVRY C &amp; BOXES</td>\n",
       "      <td>Adelaide City</td>\n",
       "    </tr>\n",
       "    <tr>\n",
       "      <th>4</th>\n",
       "      <td>2018-01-07</td>\n",
       "      <td>ADELAIDE</td>\n",
       "      <td>5000</td>\n",
       "      <td>OFFENCES AGAINST PROPERTY</td>\n",
       "      <td>1.0</td>\n",
       "      <td>138.608637</td>\n",
       "      <td>-34.937459</td>\n",
       "      <td>ADELAIDE CITY DELVRY C &amp; BOXES</td>\n",
       "      <td>Adelaide City</td>\n",
       "    </tr>\n",
       "  </tbody>\n",
       "</table>\n",
       "</div>"
      ],
      "text/plain": [
       "  Reported Date Suburb - Incident  Postcode - Incident  \\\n",
       "0    2018-01-07    ABERFOYLE PARK                 5159   \n",
       "1    2018-01-07          ADELAIDE                 5000   \n",
       "2    2018-01-07          ADELAIDE                 5000   \n",
       "3    2018-01-07          ADELAIDE                 5000   \n",
       "4    2018-01-07          ADELAIDE                 5000   \n",
       "\n",
       "  Offence Level 1 Description  Offence count        long        lat  \\\n",
       "0   OFFENCES AGAINST PROPERTY            1.0  138.603897 -35.061705   \n",
       "1   OFFENCES AGAINST PROPERTY            1.0  138.608637 -34.937459   \n",
       "2   OFFENCES AGAINST PROPERTY            5.0  138.608637 -34.937459   \n",
       "3   OFFENCES AGAINST PROPERTY            1.0  138.608637 -34.937459   \n",
       "4   OFFENCES AGAINST PROPERTY            1.0  138.608637 -34.937459   \n",
       "\n",
       "                               dc        sa3name  \n",
       "0                SOMERTON PARK DC    Onkaparinga  \n",
       "1  ADELAIDE CITY DELVRY C & BOXES  Adelaide City  \n",
       "2  ADELAIDE CITY DELVRY C & BOXES  Adelaide City  \n",
       "3  ADELAIDE CITY DELVRY C & BOXES  Adelaide City  \n",
       "4  ADELAIDE CITY DELVRY C & BOXES  Adelaide City  "
      ]
     },
     "execution_count": 12,
     "metadata": {},
     "output_type": "execute_result"
    }
   ],
   "source": [
    "crime_data_2019_2020 = crime_postcode_merge_df[[\"Reported Date\", \"Suburb - Incident\", \"Postcode - Incident\", \"Offence Level 1 Description\",\n",
    "                                               \"Offence count\", \"long\", \"lat\", \"dc\", \"sa3name\"]].copy()\n",
    "\n",
    "crime_data_2019_2020.head()"
   ]
  },
  {
   "cell_type": "code",
   "execution_count": 13,
   "metadata": {},
   "outputs": [
    {
     "data": {
      "text/html": [
       "<div>\n",
       "<style scoped>\n",
       "    .dataframe tbody tr th:only-of-type {\n",
       "        vertical-align: middle;\n",
       "    }\n",
       "\n",
       "    .dataframe tbody tr th {\n",
       "        vertical-align: top;\n",
       "    }\n",
       "\n",
       "    .dataframe thead th {\n",
       "        text-align: right;\n",
       "    }\n",
       "</style>\n",
       "<table border=\"1\" class=\"dataframe\">\n",
       "  <thead>\n",
       "    <tr style=\"text-align: right;\">\n",
       "      <th></th>\n",
       "      <th>Reported Date</th>\n",
       "      <th>Suburb - Incident</th>\n",
       "      <th>Postcode - Incident</th>\n",
       "      <th>Offence Level 1 Description</th>\n",
       "      <th>Offence count</th>\n",
       "      <th>long</th>\n",
       "      <th>lat</th>\n",
       "      <th>dc</th>\n",
       "      <th>sa3name</th>\n",
       "      <th>Year</th>\n",
       "      <th>Month</th>\n",
       "    </tr>\n",
       "  </thead>\n",
       "  <tbody>\n",
       "    <tr>\n",
       "      <th>46661</th>\n",
       "      <td>2019-01-01</td>\n",
       "      <td>ADELAIDE</td>\n",
       "      <td>5000</td>\n",
       "      <td>OFFENCES AGAINST PROPERTY</td>\n",
       "      <td>2.0</td>\n",
       "      <td>138.608637</td>\n",
       "      <td>-34.937459</td>\n",
       "      <td>ADELAIDE CITY DELVRY C &amp; BOXES</td>\n",
       "      <td>Adelaide City</td>\n",
       "      <td>2019</td>\n",
       "      <td>1</td>\n",
       "    </tr>\n",
       "    <tr>\n",
       "      <th>46662</th>\n",
       "      <td>2019-01-01</td>\n",
       "      <td>ADELAIDE</td>\n",
       "      <td>5000</td>\n",
       "      <td>OFFENCES AGAINST PROPERTY</td>\n",
       "      <td>2.0</td>\n",
       "      <td>138.608637</td>\n",
       "      <td>-34.937459</td>\n",
       "      <td>ADELAIDE CITY DELVRY C &amp; BOXES</td>\n",
       "      <td>Adelaide City</td>\n",
       "      <td>2019</td>\n",
       "      <td>1</td>\n",
       "    </tr>\n",
       "    <tr>\n",
       "      <th>46663</th>\n",
       "      <td>2019-01-01</td>\n",
       "      <td>ADELAIDE</td>\n",
       "      <td>5000</td>\n",
       "      <td>OFFENCES AGAINST PROPERTY</td>\n",
       "      <td>4.0</td>\n",
       "      <td>138.608637</td>\n",
       "      <td>-34.937459</td>\n",
       "      <td>ADELAIDE CITY DELVRY C &amp; BOXES</td>\n",
       "      <td>Adelaide City</td>\n",
       "      <td>2019</td>\n",
       "      <td>1</td>\n",
       "    </tr>\n",
       "    <tr>\n",
       "      <th>46664</th>\n",
       "      <td>2019-01-01</td>\n",
       "      <td>ADELAIDE</td>\n",
       "      <td>5000</td>\n",
       "      <td>OFFENCES AGAINST PROPERTY</td>\n",
       "      <td>1.0</td>\n",
       "      <td>138.608637</td>\n",
       "      <td>-34.937459</td>\n",
       "      <td>ADELAIDE CITY DELVRY C &amp; BOXES</td>\n",
       "      <td>Adelaide City</td>\n",
       "      <td>2019</td>\n",
       "      <td>1</td>\n",
       "    </tr>\n",
       "    <tr>\n",
       "      <th>46665</th>\n",
       "      <td>2019-01-01</td>\n",
       "      <td>ADELAIDE</td>\n",
       "      <td>5000</td>\n",
       "      <td>OFFENCES AGAINST PROPERTY</td>\n",
       "      <td>1.0</td>\n",
       "      <td>138.608637</td>\n",
       "      <td>-34.937459</td>\n",
       "      <td>ADELAIDE CITY DELVRY C &amp; BOXES</td>\n",
       "      <td>Adelaide City</td>\n",
       "      <td>2019</td>\n",
       "      <td>1</td>\n",
       "    </tr>\n",
       "  </tbody>\n",
       "</table>\n",
       "</div>"
      ],
      "text/plain": [
       "      Reported Date Suburb - Incident  Postcode - Incident  \\\n",
       "46661    2019-01-01          ADELAIDE                 5000   \n",
       "46662    2019-01-01          ADELAIDE                 5000   \n",
       "46663    2019-01-01          ADELAIDE                 5000   \n",
       "46664    2019-01-01          ADELAIDE                 5000   \n",
       "46665    2019-01-01          ADELAIDE                 5000   \n",
       "\n",
       "      Offence Level 1 Description  Offence count        long        lat  \\\n",
       "46661   OFFENCES AGAINST PROPERTY            2.0  138.608637 -34.937459   \n",
       "46662   OFFENCES AGAINST PROPERTY            2.0  138.608637 -34.937459   \n",
       "46663   OFFENCES AGAINST PROPERTY            4.0  138.608637 -34.937459   \n",
       "46664   OFFENCES AGAINST PROPERTY            1.0  138.608637 -34.937459   \n",
       "46665   OFFENCES AGAINST PROPERTY            1.0  138.608637 -34.937459   \n",
       "\n",
       "                                   dc        sa3name  Year  Month  \n",
       "46661  ADELAIDE CITY DELVRY C & BOXES  Adelaide City  2019      1  \n",
       "46662  ADELAIDE CITY DELVRY C & BOXES  Adelaide City  2019      1  \n",
       "46663  ADELAIDE CITY DELVRY C & BOXES  Adelaide City  2019      1  \n",
       "46664  ADELAIDE CITY DELVRY C & BOXES  Adelaide City  2019      1  \n",
       "46665  ADELAIDE CITY DELVRY C & BOXES  Adelaide City  2019      1  "
      ]
     },
     "execution_count": 13,
     "metadata": {},
     "output_type": "execute_result"
    }
   ],
   "source": [
    "# Extract month and year\n",
    "crime_data_2019_2020['Year'] = pd.DatetimeIndex(crime_data_2019_2020['Reported Date']).year\n",
    "crime_data_2019_2020['Month'] = pd.DatetimeIndex(crime_data_2019_2020['Reported Date']).month\n",
    "\n",
    "#Drop 2018 data \n",
    "crime_data_2019_2020 = crime_data_2019_2020[crime_data_2019_2020.Year != 2018]\n",
    "\n",
    "crime_data_2019_2020.head()"
   ]
  },
  {
   "cell_type": "code",
   "execution_count": 14,
   "metadata": {},
   "outputs": [
    {
     "data": {
      "text/html": [
       "<div>\n",
       "<style scoped>\n",
       "    .dataframe tbody tr th:only-of-type {\n",
       "        vertical-align: middle;\n",
       "    }\n",
       "\n",
       "    .dataframe tbody tr th {\n",
       "        vertical-align: top;\n",
       "    }\n",
       "\n",
       "    .dataframe thead th {\n",
       "        text-align: right;\n",
       "    }\n",
       "</style>\n",
       "<table border=\"1\" class=\"dataframe\">\n",
       "  <thead>\n",
       "    <tr style=\"text-align: right;\">\n",
       "      <th></th>\n",
       "      <th>Reported Date</th>\n",
       "      <th>Suburb - Incident</th>\n",
       "      <th>Postcode - Incident</th>\n",
       "      <th>Offence Level 1 Description</th>\n",
       "      <th>Offence count</th>\n",
       "      <th>long</th>\n",
       "      <th>lat</th>\n",
       "      <th>dc</th>\n",
       "      <th>sa3name</th>\n",
       "      <th>Year</th>\n",
       "      <th>Month</th>\n",
       "    </tr>\n",
       "  </thead>\n",
       "  <tbody>\n",
       "    <tr>\n",
       "      <th>46661</th>\n",
       "      <td>2019-01-01</td>\n",
       "      <td>ADELAIDE</td>\n",
       "      <td>5000</td>\n",
       "      <td>OFFENCES AGAINST PROPERTY</td>\n",
       "      <td>2.0</td>\n",
       "      <td>138.608637</td>\n",
       "      <td>-34.937459</td>\n",
       "      <td>ADELAIDE CITY DELVRY C &amp; BOXES</td>\n",
       "      <td>Adelaide City</td>\n",
       "      <td>2019</td>\n",
       "      <td>1</td>\n",
       "    </tr>\n",
       "    <tr>\n",
       "      <th>46662</th>\n",
       "      <td>2019-01-01</td>\n",
       "      <td>ADELAIDE</td>\n",
       "      <td>5000</td>\n",
       "      <td>OFFENCES AGAINST PROPERTY</td>\n",
       "      <td>2.0</td>\n",
       "      <td>138.608637</td>\n",
       "      <td>-34.937459</td>\n",
       "      <td>ADELAIDE CITY DELVRY C &amp; BOXES</td>\n",
       "      <td>Adelaide City</td>\n",
       "      <td>2019</td>\n",
       "      <td>1</td>\n",
       "    </tr>\n",
       "    <tr>\n",
       "      <th>46663</th>\n",
       "      <td>2019-01-01</td>\n",
       "      <td>ADELAIDE</td>\n",
       "      <td>5000</td>\n",
       "      <td>OFFENCES AGAINST PROPERTY</td>\n",
       "      <td>4.0</td>\n",
       "      <td>138.608637</td>\n",
       "      <td>-34.937459</td>\n",
       "      <td>ADELAIDE CITY DELVRY C &amp; BOXES</td>\n",
       "      <td>Adelaide City</td>\n",
       "      <td>2019</td>\n",
       "      <td>1</td>\n",
       "    </tr>\n",
       "    <tr>\n",
       "      <th>46664</th>\n",
       "      <td>2019-01-01</td>\n",
       "      <td>ADELAIDE</td>\n",
       "      <td>5000</td>\n",
       "      <td>OFFENCES AGAINST PROPERTY</td>\n",
       "      <td>1.0</td>\n",
       "      <td>138.608637</td>\n",
       "      <td>-34.937459</td>\n",
       "      <td>ADELAIDE CITY DELVRY C &amp; BOXES</td>\n",
       "      <td>Adelaide City</td>\n",
       "      <td>2019</td>\n",
       "      <td>1</td>\n",
       "    </tr>\n",
       "    <tr>\n",
       "      <th>46665</th>\n",
       "      <td>2019-01-01</td>\n",
       "      <td>ADELAIDE</td>\n",
       "      <td>5000</td>\n",
       "      <td>OFFENCES AGAINST PROPERTY</td>\n",
       "      <td>1.0</td>\n",
       "      <td>138.608637</td>\n",
       "      <td>-34.937459</td>\n",
       "      <td>ADELAIDE CITY DELVRY C &amp; BOXES</td>\n",
       "      <td>Adelaide City</td>\n",
       "      <td>2019</td>\n",
       "      <td>1</td>\n",
       "    </tr>\n",
       "  </tbody>\n",
       "</table>\n",
       "</div>"
      ],
      "text/plain": [
       "      Reported Date Suburb - Incident  Postcode - Incident  \\\n",
       "46661    2019-01-01          ADELAIDE                 5000   \n",
       "46662    2019-01-01          ADELAIDE                 5000   \n",
       "46663    2019-01-01          ADELAIDE                 5000   \n",
       "46664    2019-01-01          ADELAIDE                 5000   \n",
       "46665    2019-01-01          ADELAIDE                 5000   \n",
       "\n",
       "      Offence Level 1 Description  Offence count        long        lat  \\\n",
       "46661   OFFENCES AGAINST PROPERTY            2.0  138.608637 -34.937459   \n",
       "46662   OFFENCES AGAINST PROPERTY            2.0  138.608637 -34.937459   \n",
       "46663   OFFENCES AGAINST PROPERTY            4.0  138.608637 -34.937459   \n",
       "46664   OFFENCES AGAINST PROPERTY            1.0  138.608637 -34.937459   \n",
       "46665   OFFENCES AGAINST PROPERTY            1.0  138.608637 -34.937459   \n",
       "\n",
       "                                   dc        sa3name  Year  Month  \n",
       "46661  ADELAIDE CITY DELVRY C & BOXES  Adelaide City  2019      1  \n",
       "46662  ADELAIDE CITY DELVRY C & BOXES  Adelaide City  2019      1  \n",
       "46663  ADELAIDE CITY DELVRY C & BOXES  Adelaide City  2019      1  \n",
       "46664  ADELAIDE CITY DELVRY C & BOXES  Adelaide City  2019      1  \n",
       "46665  ADELAIDE CITY DELVRY C & BOXES  Adelaide City  2019      1  "
      ]
     },
     "execution_count": 14,
     "metadata": {},
     "output_type": "execute_result"
    }
   ],
   "source": [
    "#Create 2019 crime dataframe\n",
    "crime_data_2019_df = crime_data_2019_2020[crime_data_2019_2020.Year != 2020]\n",
    "\n",
    "crime_data_2019_df.head()"
   ]
  },
  {
   "cell_type": "code",
   "execution_count": 15,
   "metadata": {},
   "outputs": [
    {
     "data": {
      "text/html": [
       "<div>\n",
       "<style scoped>\n",
       "    .dataframe tbody tr th:only-of-type {\n",
       "        vertical-align: middle;\n",
       "    }\n",
       "\n",
       "    .dataframe tbody tr th {\n",
       "        vertical-align: top;\n",
       "    }\n",
       "\n",
       "    .dataframe thead th {\n",
       "        text-align: right;\n",
       "    }\n",
       "</style>\n",
       "<table border=\"1\" class=\"dataframe\">\n",
       "  <thead>\n",
       "    <tr style=\"text-align: right;\">\n",
       "      <th></th>\n",
       "      <th>Reported Date</th>\n",
       "      <th>Suburb - Incident</th>\n",
       "      <th>Postcode - Incident</th>\n",
       "      <th>Offence Level 1 Description</th>\n",
       "      <th>Offence count</th>\n",
       "      <th>long</th>\n",
       "      <th>lat</th>\n",
       "      <th>dc</th>\n",
       "      <th>sa3name</th>\n",
       "      <th>Year</th>\n",
       "      <th>Month</th>\n",
       "    </tr>\n",
       "  </thead>\n",
       "  <tbody>\n",
       "    <tr>\n",
       "      <th>143821</th>\n",
       "      <td>2020-01-01</td>\n",
       "      <td>ADELAIDE</td>\n",
       "      <td>5000</td>\n",
       "      <td>OFFENCES AGAINST PROPERTY</td>\n",
       "      <td>6.0</td>\n",
       "      <td>138.608637</td>\n",
       "      <td>-34.937459</td>\n",
       "      <td>ADELAIDE CITY DELVRY C &amp; BOXES</td>\n",
       "      <td>Adelaide City</td>\n",
       "      <td>2020</td>\n",
       "      <td>1</td>\n",
       "    </tr>\n",
       "    <tr>\n",
       "      <th>143822</th>\n",
       "      <td>2020-01-01</td>\n",
       "      <td>ADELAIDE</td>\n",
       "      <td>5000</td>\n",
       "      <td>OFFENCES AGAINST PROPERTY</td>\n",
       "      <td>1.0</td>\n",
       "      <td>138.608637</td>\n",
       "      <td>-34.937459</td>\n",
       "      <td>ADELAIDE CITY DELVRY C &amp; BOXES</td>\n",
       "      <td>Adelaide City</td>\n",
       "      <td>2020</td>\n",
       "      <td>1</td>\n",
       "    </tr>\n",
       "    <tr>\n",
       "      <th>143823</th>\n",
       "      <td>2020-01-01</td>\n",
       "      <td>ADELAIDE</td>\n",
       "      <td>5000</td>\n",
       "      <td>OFFENCES AGAINST PROPERTY</td>\n",
       "      <td>6.0</td>\n",
       "      <td>138.608637</td>\n",
       "      <td>-34.937459</td>\n",
       "      <td>ADELAIDE CITY DELVRY C &amp; BOXES</td>\n",
       "      <td>Adelaide City</td>\n",
       "      <td>2020</td>\n",
       "      <td>1</td>\n",
       "    </tr>\n",
       "    <tr>\n",
       "      <th>143824</th>\n",
       "      <td>2020-01-01</td>\n",
       "      <td>ADELAIDE</td>\n",
       "      <td>5000</td>\n",
       "      <td>OFFENCES AGAINST PROPERTY</td>\n",
       "      <td>1.0</td>\n",
       "      <td>138.608637</td>\n",
       "      <td>-34.937459</td>\n",
       "      <td>ADELAIDE CITY DELVRY C &amp; BOXES</td>\n",
       "      <td>Adelaide City</td>\n",
       "      <td>2020</td>\n",
       "      <td>1</td>\n",
       "    </tr>\n",
       "    <tr>\n",
       "      <th>143825</th>\n",
       "      <td>2020-01-01</td>\n",
       "      <td>ADELAIDE</td>\n",
       "      <td>5000</td>\n",
       "      <td>OFFENCES AGAINST PROPERTY</td>\n",
       "      <td>1.0</td>\n",
       "      <td>138.608637</td>\n",
       "      <td>-34.937459</td>\n",
       "      <td>ADELAIDE CITY DELVRY C &amp; BOXES</td>\n",
       "      <td>Adelaide City</td>\n",
       "      <td>2020</td>\n",
       "      <td>1</td>\n",
       "    </tr>\n",
       "  </tbody>\n",
       "</table>\n",
       "</div>"
      ],
      "text/plain": [
       "       Reported Date Suburb - Incident  Postcode - Incident  \\\n",
       "143821    2020-01-01          ADELAIDE                 5000   \n",
       "143822    2020-01-01          ADELAIDE                 5000   \n",
       "143823    2020-01-01          ADELAIDE                 5000   \n",
       "143824    2020-01-01          ADELAIDE                 5000   \n",
       "143825    2020-01-01          ADELAIDE                 5000   \n",
       "\n",
       "       Offence Level 1 Description  Offence count        long        lat  \\\n",
       "143821   OFFENCES AGAINST PROPERTY            6.0  138.608637 -34.937459   \n",
       "143822   OFFENCES AGAINST PROPERTY            1.0  138.608637 -34.937459   \n",
       "143823   OFFENCES AGAINST PROPERTY            6.0  138.608637 -34.937459   \n",
       "143824   OFFENCES AGAINST PROPERTY            1.0  138.608637 -34.937459   \n",
       "143825   OFFENCES AGAINST PROPERTY            1.0  138.608637 -34.937459   \n",
       "\n",
       "                                    dc        sa3name  Year  Month  \n",
       "143821  ADELAIDE CITY DELVRY C & BOXES  Adelaide City  2020      1  \n",
       "143822  ADELAIDE CITY DELVRY C & BOXES  Adelaide City  2020      1  \n",
       "143823  ADELAIDE CITY DELVRY C & BOXES  Adelaide City  2020      1  \n",
       "143824  ADELAIDE CITY DELVRY C & BOXES  Adelaide City  2020      1  \n",
       "143825  ADELAIDE CITY DELVRY C & BOXES  Adelaide City  2020      1  "
      ]
     },
     "execution_count": 15,
     "metadata": {},
     "output_type": "execute_result"
    }
   ],
   "source": [
    "#Create 2020 crime dataframe\n",
    "crime_data_2020_df = crime_data_2019_2020[crime_data_2019_2020.Year != 2019]\n",
    "\n",
    "crime_data_2020_df.head()"
   ]
  },
  {
   "cell_type": "code",
   "execution_count": 16,
   "metadata": {},
   "outputs": [
    {
     "data": {
      "image/png": "[encoded data removed]",
      "text/plain": [
       "<Figure size 432x288 with 1 Axes>"
      ]
     },
     "metadata": {
      "needs_background": "light"
     },
     "output_type": "display_data"
    }
   ],
   "source": [
    "crime_2019 = crime_data_2019_df.groupby(\"Month\")['Offence Level 1 Description'].count()\n",
    "\n",
    "crime_2019.plot(kind=\"bar\", title=\"Number of Total Crimes Reported in 2019\")\n",
    "plt.ylabel(\"Number of Crimes Reported\")\n",
    "plt.tight_layout()\n",
    "plt.show()"
   ]
  },
  {
   "cell_type": "code",
   "execution_count": 18,
   "metadata": {},
   "outputs": [
    {
     "data": {
      "image/png": "[encoded data removed]",
      "text/plain": [
       "<Figure size 432x288 with 1 Axes>"
      ]
     },
     "metadata": {
      "needs_background": "light"
     },
     "output_type": "display_data"
    }
   ],
   "source": [
    "crime_2020 = crime_data_2020_df.groupby(\"Month\")['Offence Level 1 Description'].count()\n",
    "\n",
    "crime_2020.plot(kind=\"bar\", title=\"Number of Crimes Reported in 2020\", color=\"green\")\n",
    "plt.ylabel(\"Number of Total Crimes Reported\")\n",
    "plt.tight_layout()\n",
    "plt.show()"
   ]
  },
  {
   "cell_type": "code",
   "execution_count": 19,
   "metadata": {},
   "outputs": [
    {
     "data": {
      "image/png": "[encoded data removed]",
      "text/plain": [
       "<Figure size 432x288 with 1 Axes>"
      ]
     },
     "metadata": {
      "needs_background": "light"
     },
     "output_type": "display_data"
    }
   ],
   "source": [
    "combined_crime = pd.DataFrame ({\n",
    "    \"Crime 2019\" : crime_2019,\n",
    "    \"Crime 2020\" : crime_2020\n",
    "})\n",
    "\n",
    "combined_crime.plot(kind=\"bar\", color=[\"blue\", \"green\"])\n",
    "plt.title(\"Number of Total Crimes Reported 19/20\")\n",
    "plt.xlabel(\"Month\")\n",
    "plt.ylabel(\"Number of Total Crimes Reported\")\n",
    "plt.tight_layout()\n",
    "plt.ylim(0, 9000)\n",
    "plt.show()"
   ]
  },
  {
   "cell_type": "code",
   "execution_count": 20,
   "metadata": {},
   "outputs": [
    {
     "data": {
      "image/png": "[encoded data removed]",
      "text/plain": [
       "<Figure size 432x288 with 1 Axes>"
      ]
     },
     "metadata": {
      "needs_background": "light"
     },
     "output_type": "display_data"
    }
   ],
   "source": [
    "crime_2019_category = crime_data_2019_df.groupby(\"Month\")['Offence Level 1 Description'].value_counts()\n",
    "\n",
    "crime_2019_category.plot(kind=\"bar\", title=\"Number of Crime Reported by Offence Type 2019\")\n",
    "plt.ylabel(\"Number of Crimes Reported by Offence Type\")\n",
    "plt.show()"
   ]
  },
  {
   "cell_type": "code",
   "execution_count": 27,
   "metadata": {},
   "outputs": [
    {
     "data": {
      "image/png": "[encoded data removed]",
      "text/plain": [
       "<Figure size 432x288 with 1 Axes>"
      ]
     },
     "metadata": {
      "needs_background": "light"
     },
     "output_type": "display_data"
    }
   ],
   "source": [
    "crime_2020_category = crime_data_2020_df.groupby(\"Month\")['Offence Level 1 Description'].value_counts()\n",
    "\n",
    "crime_2020_category.plot(kind=\"bar\", title=\"Number of Crime Reported by Offence Type 2020\", color=\"green\")\n",
    "plt.ylabel(\"Number of Crimes Reported by Offence Type\")\n",
    "plt.show()"
   ]
  },
  {
   "cell_type": "code",
   "execution_count": 39,
   "metadata": {},
   "outputs": [
    {
     "data": {
      "image/png": "[encoded data removed]",
      "text/plain": [
       "<Figure size 432x288 with 1 Axes>"
      ]
     },
     "metadata": {
      "needs_background": "light"
     },
     "output_type": "display_data"
    }
   ],
   "source": [
    "combined_crime_category = pd.DataFrame ({\n",
    "    \"Crime 2019\" : crime_2019_category,\n",
    "    \"Crime 2020\" : crime_2020_category\n",
    "})\n",
    "\n",
    "combined_crime_category.plot(kind=\"bar\", color=[\"blue\", \"pink\"])\n",
    "plt.title(\"Number of Total Crimes Reported 19/20\")\n",
    "plt.xlabel(\"Month\")\n",
    "\n",
    "tickvalues = range(0,24)\n",
    "plt.xticks(ticks=tickvalues, labels=[\"1, property\", \"1, person\", \"2, property\", \"2, person\", \"3, property\", \"3, person\", \n",
    "                                     \"4, property\", \"4, person\", \", 5, property\", \"5, person\", \"6, property\", \"6, person\", \n",
    "                                    \"7, property\", \"7, person\", \"8, property\", \"8, person\", \"9, property\", \"9, person\", \n",
    "                                     \"10, property\", \"10, person\", \"11, property\", \"11, person\", \"12, property\", \"12, person\"], rotation=90)\n",
    "\n",
    "plt.ylabel(\"Number of Total Crimes Reported\")\n",
    "plt.ylim(0, 9000)\n",
    "plt.tight_layout()\n",
    "plt.show()"
   ]
  },
  {
   "cell_type": "code",
   "execution_count": 74,
   "metadata": {},
   "outputs": [],
   "source": [
    "# pre lockdown 14 - 17, lockdown 18 - 21, post lockdown 22 - 25\n",
    "\n",
    "lockdown_2019_df = crime_data_2019_df.loc[(crime_data_2019_df[\"Reported Date\"] >= \"2019-11-14\") & (crime_data_2019_df[\"Reported Date\"] <= \"2019-11-25\")]\n",
    "lockdown_2020_df = crime_data_2020_df.loc[(crime_data_2020_df[\"Reported Date\"] >= \"2020-11-14\") & (crime_data_2020_df[\"Reported Date\"] <= \"2020-11-25\")]\n",
    "\n",
    "lockdown_2019_sum = lockdown_2019_df.groupby(\"Reported Date\")[\"Offence count\"].sum()\n",
    "lockdown_2020_sum = lockdown_2020_df.groupby(\"Reported Date\")[\"Offence count\"].sum()"
   ]
  },
  {
   "cell_type": "code",
   "execution_count": 104,
   "metadata": {},
   "outputs": [
    {
     "data": {
      "image/png": "[encoded data removed]",
      "text/plain": [
       "<Figure size 432x288 with 1 Axes>"
      ]
     },
     "metadata": {
      "needs_background": "light"
     },
     "output_type": "display_data"
    }
   ],
   "source": [
    "lockdown_2019_sum.plot(kind=\"bar\", x=\"Reported Date\", y = \"Offence Count\", color=\"blue\", label =\"2019 Crime Count\")\n",
    "# lockdown_2020_sum.plot(x=\"Reported Date\", y = \"Offence Count\", color=\"orange\", label = \"2020 Crime Count\", marker='o', linewidth=3)\n",
    "tickvalues = range(0,12)\n",
    "plt.xticks(ticks=tickvalues, labels=[\"14\", \"15\", \"16\", \"17\", \"18\", \"19\", \"20\", \"21\", \"22\", \"23\", \"24\", \"25\"], rotation=360)\n",
    "\n",
    "plt.ylabel(\"Total Crimes Around Lockdown\")\n",
    "plt.xlabel(\"Reported Dates\")\n",
    "plt.title(\"2019 vs. 2020 Lockdown Period\")\n",
    "\n",
    "plt.legend()\n",
    "plt.show()\n",
    "\n"
   ]
  },
  {
   "cell_type": "code",
   "execution_count": 110,
   "metadata": {},
   "outputs": [
    {
     "data": {
      "image/png": "[encoded data removed]",
      "text/plain": [
       "<Figure size 432x288 with 1 Axes>"
      ]
     },
     "metadata": {
      "needs_background": "light"
     },
     "output_type": "display_data"
    }
   ],
   "source": [
    "# lockdown_2019_sum.plot(kind=\"bar\", x=\"Reported Date\", y = \"Offence Count\", color=\"blue\", label =\"2019 Crime Count\")\n",
    "lockdown_2020_sum.plot(x=\"Reported Date\", y = \"Offence Count\", color=\"orange\", label = \"2020 Crime Count\", marker='o', linewidth=3)\n",
    "tickvalues = range(0,12)\n",
    "plt.xticks(ticks=tickvalues, labels=[\"14\", \"15\", \"16\", \"17\", \"18\", \"19\", \"20\", \"21\", \"22\", \"23\", \"24\", \"25\"], rotation=360)\n",
    "\n",
    "plt.ylabel(\"Total Crimes Around Lockdown\")\n",
    "plt.xlabel(\"Reported Dates\")\n",
    "plt.title(\"2019 vs. 2020 Lockdown Period\")\n",
    "\n",
    "plt.legend()\n",
    "plt.show()"
   ]
  },
  {
   "cell_type": "code",
   "execution_count": 105,
   "metadata": {},
   "outputs": [
    {
     "data": {
      "text/plain": [
       "Reported Date\n",
       "2020-11-14    244.0\n",
       "2020-11-15    276.0\n",
       "2020-11-16    283.0\n",
       "2020-11-17    254.0\n",
       "2020-11-18    274.0\n",
       "2020-11-19    188.0\n",
       "2020-11-20    178.0\n",
       "2020-11-21    175.0\n",
       "2020-11-22    199.0\n",
       "2020-11-23    320.0\n",
       "2020-11-24    267.0\n",
       "2020-11-25    289.0\n",
       "Name: Offence count, dtype: float64"
      ]
     },
     "execution_count": 105,
     "metadata": {},
     "output_type": "execute_result"
    }
   ],
   "source": [
    "lockdown_2020_sum"
   ]
  },
  {
   "cell_type": "code",
   "execution_count": null,
   "metadata": {},
   "outputs": [],
   "source": []
  }
 ],
 "metadata": {
  "kernelspec": {
   "display_name": "Python 3",
   "language": "python",
   "name": "python3"
  },
  "language_info": {
   "codemirror_mode": {
    "name": "ipython",
    "version": 3
   },
   "file_extension": ".py",
   "mimetype": "text/x-python",
   "name": "python",
   "nbconvert_exporter": "python",
   "pygments_lexer": "ipython3",
   "version": "3.8.5"
  }
 },
 "nbformat": 4,
 "nbformat_minor": 4
}
